{
 "cells": [
  {
   "attachments": {},
   "cell_type": "markdown",
   "id": "e446072a-1e3b-4323-9aaf-232e03ddcd41",
   "metadata": {},
   "source": [
    "## 01 - Similarity\n",
    "\n",
    "Daisy makes your code go fast by querying tuning recipes from a cloud backend based on embeddings of the code. Using daisy is as simple as using other compiler optimzations, since Daisy is implemented as a compiler pass. This tutorial is the first of a series of tutorials and demonstrates the basic usage.\n",
    "\n",
    "<img src=\"../figures/overview_fig.png\" width=\"500\" />"
   ]
  },
  {
   "attachments": {},
   "cell_type": "markdown",
   "id": "e4c9ea74",
   "metadata": {},
   "source": [
    "### Limitations of Libraries\n",
    "\n",
    "Many frameworks come with optimized operations of standard mathematical operations. For instance, *numpy* internally relies on highly-optimized BLAS routines for standard linear algebra operations. However, scientific codes often use custom operations which are beyond the standard operations of frameworks. The *integer matrix-matrix multiplication* is such an operation, where numpy cannot call optimized floating-point BLAS functions."
   ]
  },
  {
   "cell_type": "code",
   "execution_count": 1,
   "id": "0cb68126",
   "metadata": {
    "tags": []
   },
   "outputs": [
    {
     "name": "stdout",
     "output_type": "stream",
     "text": [
      "Numpy runtime (FP32): 1.49 ms\n",
      "Numpy runtime (Int32): 243.77 ms\n"
     ]
    }
   ],
   "source": [
    "import time\n",
    "import numpy as np\n",
    "\n",
    "def benchmark(A, B):\n",
    "    runtimes = []\n",
    "    for _ in range(10):\n",
    "        s = time.perf_counter()\n",
    "        \n",
    "        _ = A @ B\n",
    "\n",
    "        e = time.perf_counter()\n",
    "        runtimes.append((e - s) * 1000)\n",
    "\n",
    "    runtime = np.median(np.array(runtimes))\n",
    "    return runtime\n",
    "\n",
    "A = (np.random.rand(512, 512) * 100)\n",
    "B = (np.random.rand(512, 512) * 100)\n",
    "\n",
    "# FP32 matrix-matrix multiplication\n",
    "runtime_fp32 = benchmark(A, B)\n",
    "# Int32 matrix-matrix multiplication\n",
    "A = A.astype(np.int32)\n",
    "B = B.astype(np.int32)\n",
    "runtime_int32 = benchmark(A, B)\n",
    "\n",
    "print(f\"Numpy runtime (FP32): {runtime_fp32:.2f} ms\")\n",
    "print(f\"Numpy runtime (Int32): {runtime_int32:.2f} ms\")"
   ]
  },
  {
   "attachments": {},
   "cell_type": "markdown",
   "id": "dae96faa",
   "metadata": {},
   "source": [
    "We can see that numpy is significantly slower for the integer variant, since it is not covered by the BLAS library. *Transfer tuning* -- the concept behind Daisy -- is a tuning technique designed for such cases, where library implementations are not available."
   ]
  },
  {
   "attachments": {},
   "cell_type": "markdown",
   "id": "194388ba",
   "metadata": {
    "tags": []
   },
   "source": [
    "### Stateful DataFlow multiGraph (SDFG)\n",
    "\n",
    "In DaCe, the above matrix-matrix multiplication must be expressed as a stateful dataflow multigraph (SDFG):"
   ]
  },
  {
   "cell_type": "code",
   "execution_count": 2,
   "id": "cd5a9c4f-19c7-46bb-b952-1c43cfb3940d",
   "metadata": {
    "tags": []
   },
   "outputs": [
    {
     "data": {
      "text/html": [
       "<link href=\"https://fonts.googleapis.com/icon?family=Material+Icons\" rel=\"stylesheet\"><script src=\"https://spcl.github.io/dace/webclient2/dist/sdfv.js\"></script>\n",
       "<link href=\"https://spcl.github.io/dace/webclient2/sdfv.css\" rel=\"stylesheet\">\n"
      ],
      "text/plain": [
       "<IPython.core.display.HTML object>"
      ]
     },
     "metadata": {},
     "output_type": "display_data"
    },
    {
     "name": "stdout",
     "output_type": "stream",
     "text": [
      "File saved at /tmp/tmp6avk9m6q.sdfg.html\n",
      "Opening in existing browser session.\n"
     ]
    },
    {
     "name": "stderr",
     "output_type": "stream",
     "text": [
      "libva error: vaGetDriverNameByIndex() failed with unknown libva error, driver_name = (null)\n"
     ]
    }
   ],
   "source": [
    "import dace\n",
    "\n",
    "@dace.program\n",
    "def mm(A: dace.int32[512, 512], B: dace.int32[512, 512]):\n",
    "    return A @ B\n",
    "\n",
    "# Obtain the intermediate representation (SDFG)\n",
    "sdfg = mm.to_sdfg()\n",
    "sdfg.expand_library_nodes()\n",
    "sdfg.simplify()\n",
    "sdfg.view()"
   ]
  },
  {
   "attachments": {},
   "cell_type": "markdown",
   "id": "ee0842d9",
   "metadata": {},
   "source": [
    "Without any further code transformations, the SDFG compiles to a naive matrix-matrix multiplication, which is far from optimal performance."
   ]
  },
  {
   "cell_type": "code",
   "execution_count": 3,
   "id": "a9babb88-6eba-461a-bd83-9d7b3d8f3ac7",
   "metadata": {
    "tags": []
   },
   "outputs": [
    {
     "name": "stderr",
     "output_type": "stream",
     "text": [
      "/home/lukas/anaconda3/envs/tutorials/lib/python3.9/site-packages/tqdm/auto.py:21: TqdmWarning: IProgress not found. Please update jupyter and ipywidgets. See https://ipywidgets.readthedocs.io/en/stable/user_install.html\n",
      "  from .autonotebook import tqdm as notebook_tqdm\n"
     ]
    },
    {
     "name": "stdout",
     "output_type": "stream",
     "text": [
      "DaCe runtime: 126.13 ms\n"
     ]
    }
   ],
   "source": [
    "from daisy.measure import measure\n",
    "\n",
    "args = {\"A\": A, \"B\": B}\n",
    "runtime, _, _ = measure(sdfg, arguments=args, measurements=10)\n",
    "\n",
    "print(f\"DaCe runtime: {runtime:.2f} ms\")"
   ]
  },
  {
   "attachments": {},
   "cell_type": "markdown",
   "id": "84fd7e94-982a-4cf3-92fb-c5d1eaa2fda4",
   "metadata": {},
   "source": [
    "#### Nearest-Neighbor Search\n",
    "\n",
    "Daisy searches for the most similar programs in the database and applies their optimizations based on the embedding of matrix-matrix multiplication. The best optimization is determined through actual benchmarking of the Top-K neighbors. \n",
    "\n",
    "<img src=\"../figures/tsne_homogeneity.png\" width=\"300\" />\n",
    "\n",
    "The whole optimization is created through the PipelineFactory as follows:"
   ]
  },
  {
   "cell_type": "code",
   "execution_count": 4,
   "id": "002622bf-7d53-4d3c-9d80-f0cb095a4b11",
   "metadata": {
    "tags": []
   },
   "outputs": [
    {
     "name": "stderr",
     "output_type": "stream",
     "text": [
      "/home/lukas/anaconda3/envs/tutorials/lib/python3.9/site-packages/torch_geometric/deprecation.py:22: UserWarning: 'nn.glob.GlobalAttention' is deprecated, use 'nn.aggr.AttentionalAggregation' instead\n",
      "  warnings.warn(out)\n"
     ]
    },
    {
     "name": "stdout",
     "output_type": "stream",
     "text": [
      "File saved at /tmp/tmpmuvpvv0x.sdfg.html\n",
      "Opening in existing browser session.\n"
     ]
    },
    {
     "name": "stderr",
     "output_type": "stream",
     "text": [
      "libva error: vaGetDriverNameByIndex() failed with unknown libva error, driver_name = (null)\n"
     ]
    },
    {
     "name": "stdout",
     "output_type": "stream",
     "text": [
      "DaCe runtime: 10.14 ms\n"
     ]
    }
   ],
   "source": [
    "from daisy.passes import PipelineFactory\n",
    "\n",
    "# Instantiate the \"static\" pipeline\n",
    "pipeline = PipelineFactory.static(topK=3)\n",
    "pipeline.apply_pass(sdfg, {})\n",
    "\n",
    "# View optimized SDFG\n",
    "sdfg.view()\n",
    "\n",
    "# Measure optimized runtime\n",
    "tuned_runtime, _, _ = measure(sdfg, arguments=args, measurements=3)\n",
    "print(f\"DaCe runtime: {tuned_runtime:.2f} ms\")"
   ]
  }
 ],
 "metadata": {
  "kernelspec": {
   "display_name": "Python 3 (ipykernel)",
   "language": "python",
   "name": "python3"
  },
  "language_info": {
   "codemirror_mode": {
    "name": "ipython",
    "version": 3
   },
   "file_extension": ".py",
   "mimetype": "text/x-python",
   "name": "python",
   "nbconvert_exporter": "python",
   "pygments_lexer": "ipython3",
   "version": "3.9.16"
  }
 },
 "nbformat": 4,
 "nbformat_minor": 5
}
