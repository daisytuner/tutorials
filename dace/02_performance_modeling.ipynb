{
 "cells": [
  {
   "attachments": {},
   "cell_type": "markdown",
   "id": "a0cd548c-ae46-4b07-8726-f593021aa29d",
   "metadata": {},
   "source": [
    "## 02 - Performance Embeddings\n",
    "\n",
    "In the second tutorial, we want to use profiling to run a more powerful transfer tuning pipeline. In the first tutorial, we have used transfer tuning based on static features of the program. However, the neural network, which computes the embeddings, has another input for features extracted from profiling. Hence, with this second input, we get a more accurate representation the program and thus better optimization suggestions.\n",
    "\n",
    "<img src=\"../figures/model.png\"/>"
   ]
  },
  {
   "attachments": {},
   "cell_type": "markdown",
   "id": "0c3e6a1c-4ffd-41a9-8951-f2fd0d7ccf71",
   "metadata": {
    "tags": []
   },
   "source": [
    "### Performance Modeling\n",
    "\n",
    "When optimizing the performance of a program, a common step is to model the achieved performance with respect to a certain bound. Otherwise, the results of the optimization cannot be assesed. Daisy comes with a profiling pass, which models the performance of each parallel loop nest. This pass also extracts the necessary features for the second input of the neural network. Since the results of the pass are cached in the local dacecache, we only need to run this pass once."
   ]
  },
  {
   "attachments": {},
   "cell_type": "markdown",
   "id": "2da6ad71-5bd7-4281-a6fe-2139358c1288",
   "metadata": {},
   "source": [
    "#### Benchmarking\n",
    "\n",
    "In a first step, we will benchmark our current machine. The results are stored in the ~/.daisy folder and used internally by daisy for performance modeling."
   ]
  },
  {
   "cell_type": "code",
   "execution_count": 1,
   "id": "7c54ded5-bc6b-4eae-b3a0-e7961aef2ded",
   "metadata": {
    "tags": []
   },
   "outputs": [
    {
     "data": {
      "text/html": [
       "<link href=\"https://fonts.googleapis.com/icon?family=Material+Icons\" rel=\"stylesheet\"><script src=\"https://spcl.github.io/dace/webclient2/dist/sdfv.js\"></script>\n",
       "<link href=\"https://spcl.github.io/dace/webclient2/sdfv.css\" rel=\"stylesheet\">\n"
      ],
      "text/plain": [
       "<IPython.core.display.HTML object>"
      ]
     },
     "metadata": {},
     "output_type": "display_data"
    },
    {
     "name": "stderr",
     "output_type": "stream",
     "text": [
      "/home/lukas/anaconda3/envs/tutorials/lib/python3.9/site-packages/tqdm/auto.py:21: TqdmWarning: IProgress not found. Please update jupyter and ipywidgets. See https://ipywidgets.readthedocs.io/en/stable/user_install.html\n",
      "  from .autonotebook import tqdm as notebook_tqdm\n"
     ]
    },
    {
     "name": "stdout",
     "output_type": "stream",
     "text": [
      "{'arch': 'zen3', 'num_sockets': 1, 'cores_per_socket': 6, 'threads_per_core': 2, 'l2_cache': 524, 'l3_cache': 16777, 'stream_load': 27326.4, 'stream_store': 8717.43, 'stream_copy': 15563.93, 'stream_triad': 18097.93, 'peakflops': 89598.01, 'peakflops_avx': 374076.29}\n"
     ]
    }
   ],
   "source": [
    "from daisy.utils import host\n",
    "from daisy.analysis import Benchmarking\n",
    "\n",
    "analysis = Benchmarking(hostname=host())\n",
    "res = analysis.analyze()\n",
    "\n",
    "print(res)"
   ]
  },
  {
   "attachments": {},
   "cell_type": "markdown",
   "id": "f76bbaf8-895b-477f-9480-9ccd8a435f17",
   "metadata": {
    "tags": []
   },
   "source": [
    "#### Profiling Pass\n",
    "\n",
    "With the benchmarking results available, we can start profiling our program. For this, we will look at a typical kernel from image processing applications, called *haar wavelets*.\n",
    "\n",
    "Note that for consumer hardware, the uncore events for measuring the memory bandwidth are not available through Linux perf. In those cases, Daisy must be used with a LIKWID installation, which uses the built-in access daemon. Instructions on how to build LIKWID with this backend can be found on Github."
   ]
  },
  {
   "cell_type": "code",
   "execution_count": 2,
   "id": "0e939a34-00d8-44e0-9697-acc0a834712e",
   "metadata": {
    "tags": []
   },
   "outputs": [
    {
     "name": "stdout",
     "output_type": "stream",
     "text": [
      "File saved at /tmp/tmpna33dy9p.sdfg.html\n",
      "Opening in existing browser session.\n"
     ]
    }
   ],
   "source": [
    "import dace\n",
    "\n",
    "@dace.program\n",
    "def haar_x(input: dace.float32[2560, 1680], output: dace.float32[2, 2560, 1680 // 2]):\n",
    "    for c, y, x in dace.map[0:2, 0:2560, 0 : 1680 // 2]:\n",
    "        with dace.tasklet:\n",
    "            i1 << input[y, 2 * x]\n",
    "            i2 << input[y, min(2 * x + 1, 1680)]\n",
    "            o >> output[c, y, x]\n",
    "\n",
    "            if c == 0:\n",
    "                o = (i1 + i2) / 2\n",
    "            else:\n",
    "                o = (i1 - i2) / 2\n",
    "\n",
    "sdfg = haar_x.to_sdfg()\n",
    "sdfg.simplify()\n",
    "sdfg.view()"
   ]
  },
  {
   "cell_type": "code",
   "execution_count": 4,
   "id": "eb651dc4-c5ec-45de-a76c-64323ddaadaf",
   "metadata": {
    "tags": []
   },
   "outputs": [
    {
     "name": "stdout",
     "output_type": "stream",
     "text": [
      "Profiling map nests. This may take a while...\n"
     ]
    },
    {
     "name": "stderr",
     "output_type": "stream",
     "text": [
      "Profiling map nests: 100%|███████████████████████████████████████████████████████████████████████████████████████████████████████████████████████████████████████████████████| 2/2 [00:00<00:00, 31.43it/s]"
     ]
    },
    {
     "name": "stdout",
     "output_type": "stream",
     "text": [
      "Roofline modeling...\n"
     ]
    },
    {
     "name": "stderr",
     "output_type": "stream",
     "text": [
      "\n"
     ]
    },
    {
     "data": {
      "text/html": [
       "<div>\n",
       "<style scoped>\n",
       "    .dataframe tbody tr th:only-of-type {\n",
       "        vertical-align: middle;\n",
       "    }\n",
       "\n",
       "    .dataframe tbody tr th {\n",
       "        vertical-align: top;\n",
       "    }\n",
       "\n",
       "    .dataframe thead th {\n",
       "        text-align: right;\n",
       "    }\n",
       "</style>\n",
       "<table border=\"1\" class=\"dataframe\">\n",
       "  <thead>\n",
       "    <tr style=\"text-align: right;\">\n",
       "      <th></th>\n",
       "      <th>runtime_0</th>\n",
       "      <th>memory_bandwidth_0</th>\n",
       "      <th>mflops</th>\n",
       "      <th>operational_intensity</th>\n",
       "      <th>% peak performance</th>\n",
       "    </tr>\n",
       "  </thead>\n",
       "  <tbody>\n",
       "    <tr>\n",
       "      <th>5c391db641725ae8936cfdf566e7a1c80db7f240b6e0f332ccdad0034778d15e</th>\n",
       "      <td>4.082</td>\n",
       "      <td>1.388251e+19</td>\n",
       "      <td>4115.102898</td>\n",
       "      <td>3.035808e-16</td>\n",
       "      <td>7.489924e+16</td>\n",
       "    </tr>\n",
       "  </tbody>\n",
       "</table>\n",
       "</div>"
      ],
      "text/plain": [
       "                                                    runtime_0   \n",
       "5c391db641725ae8936cfdf566e7a1c80db7f240b6e0f33...      4.082  \\\n",
       "\n",
       "                                                    memory_bandwidth_0   \n",
       "5c391db641725ae8936cfdf566e7a1c80db7f240b6e0f33...        1.388251e+19  \\\n",
       "\n",
       "                                                         mflops   \n",
       "5c391db641725ae8936cfdf566e7a1c80db7f240b6e0f33...  4115.102898  \\\n",
       "\n",
       "                                                    operational_intensity   \n",
       "5c391db641725ae8936cfdf566e7a1c80db7f240b6e0f33...           3.035808e-16  \\\n",
       "\n",
       "                                                    % peak performance  \n",
       "5c391db641725ae8936cfdf566e7a1c80db7f240b6e0f33...        7.489924e+16  "
      ]
     },
     "execution_count": 4,
     "metadata": {},
     "output_type": "execute_result"
    }
   ],
   "source": [
    "import os\n",
    "\n",
    "from daisy.passes import ProfilingPass\n",
    "\n",
    "pp = ProfilingPass()\n",
    "pp.apply_pass(sdfg, {})"
   ]
  },
  {
   "attachments": {},
   "cell_type": "markdown",
   "id": "e445cc4a-106d-4d6f-a487-222efc6e5678",
   "metadata": {},
   "source": [
    "### Full Pipeline\n",
    "\n",
    "Based on the performance analysis, Daisy can now compute a more accurate embedding of the haar wavelet. The pipeline, which optimizes programs based on those full *performance embeddings*, is instantiated as follows: "
   ]
  },
  {
   "cell_type": "code",
   "execution_count": 5,
   "id": "24b6b23c-a288-4090-a622-8294a7d22940",
   "metadata": {
    "tags": []
   },
   "outputs": [
    {
     "name": "stderr",
     "output_type": "stream",
     "text": [
      "/home/lukas/anaconda3/envs/tutorials/lib/python3.9/site-packages/torch_geometric/deprecation.py:22: UserWarning: 'nn.glob.GlobalAttention' is deprecated, use 'nn.aggr.AttentionalAggregation' instead\n",
      "  warnings.warn(out)\n"
     ]
    },
    {
     "name": "stdout",
     "output_type": "stream",
     "text": [
      "File saved at /tmp/tmprbv28o42.sdfg.html\n",
      "Opening in existing browser session.\n",
      "Runtime: 2.48 ms\n"
     ]
    }
   ],
   "source": [
    "from daisy.measure import measure, random_arguments\n",
    "from daisy.passes import PipelineFactory\n",
    "\n",
    "# Instantiate the \"static\" pipeline\n",
    "pipeline = PipelineFactory.full(topK=3)\n",
    "pipeline.apply_pass(sdfg, {})\n",
    "\n",
    "# View optimized SDFG\n",
    "sdfg.view()\n",
    "\n",
    "# Measure optimized runtime\n",
    "args = random_arguments(sdfg)\n",
    "tuned_runtime, _, _ = measure(sdfg, arguments=args, measurements=3)\n",
    "print(f\"Runtime: {tuned_runtime:.2f} ms\")"
   ]
  }
 ],
 "metadata": {
  "kernelspec": {
   "display_name": "Python 3 (ipykernel)",
   "language": "python",
   "name": "python3"
  },
  "language_info": {
   "codemirror_mode": {
    "name": "ipython",
    "version": 3
   },
   "file_extension": ".py",
   "mimetype": "text/x-python",
   "name": "python",
   "nbconvert_exporter": "python",
   "pygments_lexer": "ipython3",
   "version": "3.9.16"
  }
 },
 "nbformat": 4,
 "nbformat_minor": 5
}
